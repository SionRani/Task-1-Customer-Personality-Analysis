{
 "cells": [
  {
   "cell_type": "code",
   "execution_count": 27,
   "id": "26f995e3-24cf-48b0-a30b-0bdd320247b2",
   "metadata": {},
   "outputs": [
    {
     "name": "stdout",
     "output_type": "stream",
     "text": [
      "Missing values before cleaning:\n",
      " ID                      0\n",
      "Year_Birth              0\n",
      "Education               0\n",
      "Marital_Status          0\n",
      "Income                 24\n",
      "Kidhome                 0\n",
      "Teenhome                0\n",
      "Dt_Customer             0\n",
      "Recency                 0\n",
      "MntWines                0\n",
      "MntFruits               0\n",
      "MntMeatProducts         0\n",
      "MntFishProducts         0\n",
      "MntSweetProducts        0\n",
      "MntGoldProds            0\n",
      "NumDealsPurchases       0\n",
      "NumWebPurchases         0\n",
      "NumCatalogPurchases     0\n",
      "NumStorePurchases       0\n",
      "NumWebVisitsMonth       0\n",
      "AcceptedCmp3            0\n",
      "AcceptedCmp4            0\n",
      "AcceptedCmp5            0\n",
      "AcceptedCmp1            0\n",
      "AcceptedCmp2            0\n",
      "Complain                0\n",
      "Z_CostContact           0\n",
      "Z_Revenue               0\n",
      "Response                0\n",
      "dtype: int64\n",
      "Duplicate rows before removal: 0\n",
      "\n",
      "Missing values after cleaning:\n",
      " id                      0\n",
      "year_birth              0\n",
      "education               0\n",
      "marital_status          0\n",
      "income                 24\n",
      "kidhome                 0\n",
      "teenhome                0\n",
      "dt_customer             0\n",
      "recency                 0\n",
      "mntwines                0\n",
      "mntfruits               0\n",
      "mntmeatproducts         0\n",
      "mntfishproducts         0\n",
      "mntsweetproducts        0\n",
      "mntgoldprods            0\n",
      "numdealspurchases       0\n",
      "numwebpurchases         0\n",
      "numcatalogpurchases     0\n",
      "numstorepurchases       0\n",
      "numwebvisitsmonth       0\n",
      "acceptedcmp3            0\n",
      "acceptedcmp4            0\n",
      "acceptedcmp5            0\n",
      "acceptedcmp1            0\n",
      "acceptedcmp2            0\n",
      "complain                0\n",
      "z_costcontact           0\n",
      "z_revenue               0\n",
      "response                0\n",
      "dtype: int64\n",
      "Final dataset shape: (2240, 29)\n",
      "\n",
      "Cleaned dataset preview:\n",
      "      id  year_birth   education marital_status   income  kidhome  teenhome  \\\n",
      "0  5524        1957  Graduation         Single  58138.0        0         0   \n",
      "1  2174        1954  Graduation         Single  46344.0        1         1   \n",
      "2  4141        1965  Graduation       Together  71613.0        0         0   \n",
      "3  6182        1984  Graduation       Together  26646.0        1         0   \n",
      "4  5324        1981         Phd        Married  58293.0        1         0   \n",
      "\n",
      "  dt_customer  recency  mntwines  ...  numwebvisitsmonth  acceptedcmp3  \\\n",
      "0  2012-09-04       58       635  ...                  7             0   \n",
      "1  2014-03-08       38        11  ...                  5             0   \n",
      "2  2013-08-21       26       426  ...                  4             0   \n",
      "3  2014-02-10       26        11  ...                  6             0   \n",
      "4  2014-01-19       94       173  ...                  5             0   \n",
      "\n",
      "   acceptedcmp4  acceptedcmp5  acceptedcmp1  acceptedcmp2  complain  \\\n",
      "0             0             0             0             0         0   \n",
      "1             0             0             0             0         0   \n",
      "2             0             0             0             0         0   \n",
      "3             0             0             0             0         0   \n",
      "4             0             0             0             0         0   \n",
      "\n",
      "   z_costcontact  z_revenue  response  \n",
      "0              3         11         1  \n",
      "1              3         11         0  \n",
      "2              3         11         0  \n",
      "3              3         11         0  \n",
      "4              3         11         0  \n",
      "\n",
      "[5 rows x 29 columns]\n",
      "\n",
      "✅ Cleaned dataset saved as 'marketing_campaign_cleaned.csv'\n"
     ]
    }
   ],
   "source": [
    "import pandas as pd\n",
    "# Load dataset (adjust the path as needed)\n",
    "df = pd.read_csv(\"marketing_campaign.csv\", delimiter='\\t')\n",
    "\n",
    "# Step 1: Check for missing values\n",
    "print(\"Missing values before cleaning:\\n\", df.isnull().sum())\n",
    "\n",
    "# Step 2: Remove duplicate rows\n",
    "duplicates = df.duplicated().sum()\n",
    "print(f\"Duplicate rows before removal: {duplicates}\")\n",
    "df = df.drop_duplicates()\n",
    "\n",
    "# Step 3: Standardize text columns\n",
    "df['Education'] = df['Education'].str.strip().str.title()\n",
    "df['Marital_Status'] = df['Marital_Status'].str.strip().str.title()\n",
    "\n",
    "# Step 4: Convert 'Dt_Customer' to datetime format (dd-mm-yyyy)\n",
    "df['Dt_Customer'] = pd.to_datetime(df['Dt_Customer'], dayfirst=True)\n",
    "\n",
    "# Step 5: Rename columns to lowercase and replace spaces with underscores\n",
    "df.columns = df.columns.str.lower().str.replace(\" \", \"_\")\n",
    "\n",
    "# Step 6: Check and fix data types (if needed)\n",
    "# You can enforce specific conversions if necessary, e.g.:\n",
    "# df['income'] = df['income'].astype(float)\n",
    "\n",
    "# Step 7: Summary of final data\n",
    "print(\"\\nMissing values after cleaning:\\n\", df.isnull().sum())\n",
    "print(f\"Final dataset shape: {df.shape}\")\n",
    "print(\"\\nCleaned dataset preview:\\n\", df.head())\n",
    "\n",
    "# Step 8: Save cleaned data\n",
    "df.to_csv(\"marketing_campaign_cleaned.csv\", index=False)\n",
    "print(\"\\n✅ Cleaned dataset saved as 'marketing_campaign_cleaned.csv'\")\n"
   ]
  },
  {
   "cell_type": "code",
   "execution_count": 9,
   "id": "9343b44c-5040-4828-b0ae-81930ce8793b",
   "metadata": {},
   "outputs": [
    {
     "name": "stdout",
     "output_type": "stream",
     "text": [
      "Missing values before cleaning:\n",
      " ID                      0\n",
      "Year_Birth              0\n",
      "Education               0\n",
      "Marital_Status          0\n",
      "Income                 24\n",
      "Kidhome                 0\n",
      "Teenhome                0\n",
      "Dt_Customer             0\n",
      "Recency                 0\n",
      "MntWines                0\n",
      "MntFruits               0\n",
      "MntMeatProducts         0\n",
      "MntFishProducts         0\n",
      "MntSweetProducts        0\n",
      "MntGoldProds            0\n",
      "NumDealsPurchases       0\n",
      "NumWebPurchases         0\n",
      "NumCatalogPurchases     0\n",
      "NumStorePurchases       0\n",
      "NumWebVisitsMonth       0\n",
      "AcceptedCmp3            0\n",
      "AcceptedCmp4            0\n",
      "AcceptedCmp5            0\n",
      "AcceptedCmp1            0\n",
      "AcceptedCmp2            0\n",
      "Complain                0\n",
      "Z_CostContact           0\n",
      "Z_Revenue               0\n",
      "Response                0\n",
      "dtype: int64\n"
     ]
    }
   ],
   "source": [
    "import pandas as pd\n",
    "\n",
    "# Load dataset (adjust the path as needed)\n",
    "df = pd.read_csv(\"marketing_campaign.csv\", delimiter='\\t')\n",
    "# Step 1: Check for missing values\n",
    "print(\"Missing values before cleaning:\\n\", df.isnull().sum())"
   ]
  },
  {
   "cell_type": "code",
   "execution_count": 7,
   "id": "f273bcc7-2a65-4abd-802c-7197880ba230",
   "metadata": {},
   "outputs": [
    {
     "name": "stdout",
     "output_type": "stream",
     "text": [
      "Duplicate rows before removal: 0\n"
     ]
    }
   ],
   "source": [
    "# Step 2: Remove duplicate rows\n",
    "duplicates = df.duplicated().sum()\n",
    "print(f\"Duplicate rows before removal: {duplicates}\")\n",
    "df = df.drop_duplicates()\n"
   ]
  },
  {
   "cell_type": "code",
   "execution_count": 15,
   "id": "791e136a-85e3-4424-91f5-b53a26dc3780",
   "metadata": {},
   "outputs": [],
   "source": [
    "# Step 3: Standardize text columns\n",
    "df['Education'] = df['Education'].str.strip().str.title()\n",
    "df['Marital_Status'] = df['Marital_Status'].str.strip().str.title()"
   ]
  },
  {
   "cell_type": "code",
   "execution_count": 17,
   "id": "726488f3-3085-46fe-bb10-164d2bf094c8",
   "metadata": {},
   "outputs": [],
   "source": [
    "# Step 4: Convert 'Dt_Customer' to datetime format (dd-mm-yyyy)\n",
    "df['Dt_Customer'] = pd.to_datetime(df['Dt_Customer'], dayfirst=True)"
   ]
  },
  {
   "cell_type": "code",
   "execution_count": 19,
   "id": "07abd4e5-8eeb-4dbc-9db8-118c4a3a2633",
   "metadata": {},
   "outputs": [],
   "source": [
    "# Step 5: Rename columns to lowercase and replace spaces with underscores\n",
    "df.columns = df.columns.str.lower().str.replace(\" \", \"_\")\n"
   ]
  },
  {
   "cell_type": "code",
   "execution_count": 21,
   "id": "291e6d4a-d4f7-4c9d-b902-903d69397f50",
   "metadata": {},
   "outputs": [],
   "source": [
    "# Step 6: Check and fix data types (if needed)\n",
    "# You can enforce specific conversions if necessary, e.g.:\n",
    "# df['income'] = df['income'].astype(float)"
   ]
  },
  {
   "cell_type": "code",
   "execution_count": 23,
   "id": "2a461fda-7788-4ca4-9699-c6e23178dc20",
   "metadata": {},
   "outputs": [
    {
     "name": "stdout",
     "output_type": "stream",
     "text": [
      "\n",
      "Missing values after cleaning:\n",
      " id                      0\n",
      "year_birth              0\n",
      "education               0\n",
      "marital_status          0\n",
      "income                 24\n",
      "kidhome                 0\n",
      "teenhome                0\n",
      "dt_customer             0\n",
      "recency                 0\n",
      "mntwines                0\n",
      "mntfruits               0\n",
      "mntmeatproducts         0\n",
      "mntfishproducts         0\n",
      "mntsweetproducts        0\n",
      "mntgoldprods            0\n",
      "numdealspurchases       0\n",
      "numwebpurchases         0\n",
      "numcatalogpurchases     0\n",
      "numstorepurchases       0\n",
      "numwebvisitsmonth       0\n",
      "acceptedcmp3            0\n",
      "acceptedcmp4            0\n",
      "acceptedcmp5            0\n",
      "acceptedcmp1            0\n",
      "acceptedcmp2            0\n",
      "complain                0\n",
      "z_costcontact           0\n",
      "z_revenue               0\n",
      "response                0\n",
      "dtype: int64\n",
      "Final dataset shape: (2240, 29)\n",
      "\n",
      "Cleaned dataset preview:\n",
      "      id  year_birth   education marital_status   income  kidhome  teenhome  \\\n",
      "0  5524        1957  Graduation         Single  58138.0        0         0   \n",
      "1  2174        1954  Graduation         Single  46344.0        1         1   \n",
      "2  4141        1965  Graduation       Together  71613.0        0         0   \n",
      "3  6182        1984  Graduation       Together  26646.0        1         0   \n",
      "4  5324        1981         Phd        Married  58293.0        1         0   \n",
      "\n",
      "  dt_customer  recency  mntwines  ...  numwebvisitsmonth  acceptedcmp3  \\\n",
      "0  2012-09-04       58       635  ...                  7             0   \n",
      "1  2014-03-08       38        11  ...                  5             0   \n",
      "2  2013-08-21       26       426  ...                  4             0   \n",
      "3  2014-02-10       26        11  ...                  6             0   \n",
      "4  2014-01-19       94       173  ...                  5             0   \n",
      "\n",
      "   acceptedcmp4  acceptedcmp5  acceptedcmp1  acceptedcmp2  complain  \\\n",
      "0             0             0             0             0         0   \n",
      "1             0             0             0             0         0   \n",
      "2             0             0             0             0         0   \n",
      "3             0             0             0             0         0   \n",
      "4             0             0             0             0         0   \n",
      "\n",
      "   z_costcontact  z_revenue  response  \n",
      "0              3         11         1  \n",
      "1              3         11         0  \n",
      "2              3         11         0  \n",
      "3              3         11         0  \n",
      "4              3         11         0  \n",
      "\n",
      "[5 rows x 29 columns]\n"
     ]
    }
   ],
   "source": [
    "# Step 7: Summary of final data\n",
    "print(\"\\nMissing values after cleaning:\\n\", df.isnull().sum())\n",
    "print(f\"Final dataset shape: {df.shape}\")\n",
    "print(\"\\nCleaned dataset preview:\\n\", df.head())\n"
   ]
  },
  {
   "cell_type": "code",
   "execution_count": 25,
   "id": "aa6c73ea-9f0c-42ca-9368-658aa48e6f4b",
   "metadata": {},
   "outputs": [
    {
     "name": "stdout",
     "output_type": "stream",
     "text": [
      "\n",
      "✅ Cleaned dataset saved as 'marketing_campaign_cleaned.csv'\n"
     ]
    }
   ],
   "source": [
    "# Step 8: Save cleaned data\n",
    "df.to_csv(\"marketing_campaign_cleaned.csv\", index=False)\n",
    "print(\"\\n✅ Cleaned dataset saved as 'marketing_campaign_cleaned.csv'\")\n"
   ]
  },
  {
   "cell_type": "code",
   "execution_count": null,
   "id": "1f1c34b8-be9b-4a9c-b36e-be4e9ac487e9",
   "metadata": {},
   "outputs": [],
   "source": []
  }
 ],
 "metadata": {
  "kernelspec": {
   "display_name": "Python 3 (ipykernel)",
   "language": "python",
   "name": "python3"
  },
  "language_info": {
   "codemirror_mode": {
    "name": "ipython",
    "version": 3
   },
   "file_extension": ".py",
   "mimetype": "text/x-python",
   "name": "python",
   "nbconvert_exporter": "python",
   "pygments_lexer": "ipython3",
   "version": "3.12.4"
  }
 },
 "nbformat": 4,
 "nbformat_minor": 5
}
